{
 "cells": [
  {
   "cell_type": "code",
   "execution_count": 1,
   "metadata": {},
   "outputs": [],
   "source": [
    "# TODO\n",
    "\n",
    "# Gerar um box de interesse\n",
    "# Calculando os Tiles para o determinado Zoom\n",
    "# Download dos dados de Tile de Vetor\n",
    "# Analisar os dados"
   ]
  },
  {
   "cell_type": "markdown",
   "metadata": {},
   "source": [
    "## Gerando box de interesse"
   ]
  },
  {
   "cell_type": "code",
   "execution_count": 12,
   "metadata": {},
   "outputs": [],
   "source": [
    "import geopandas as gpd\n",
    "import pandas as pd"
   ]
  },
  {
   "cell_type": "code",
   "execution_count": 13,
   "metadata": {},
   "outputs": [],
   "source": [
    "areas = []\n",
    "areas.append(gpd.read_file('zip://downloads/fwdenviodosshapefilesestudodecaladasdapompiae.zip!zona od pompeia.shp'))\n",
    "areas.append(gpd.read_file('zip://downloads/fwdenviodosshapefilesestudodecaladasdapompiae.zip!zona od vila leopoldina.shp'))\n",
    "gdf_areas = gpd.GeoDataFrame(pd.concat(areas))"
   ]
  },
  {
   "cell_type": "code",
   "execution_count": 19,
   "metadata": {},
   "outputs": [
    {
     "name": "stdout",
     "output_type": "stream",
     "text": [
      "(322278.10529588326, 7396095.722869624, 328267.5011342565, 7397708.321301874)\n"
     ]
    }
   ],
   "source": [
    "print(gdf_areas.unary_union.bounds)"
   ]
  },
  {
   "cell_type": "markdown",
   "metadata": {},
   "source": [
    "## Calculando Tiles para um zoom de 14"
   ]
  },
  {
   "cell_type": "code",
   "execution_count": 20,
   "metadata": {},
   "outputs": [],
   "source": [
    "import mercantile"
   ]
  },
  {
   "cell_type": "code",
   "execution_count": 30,
   "metadata": {},
   "outputs": [
    {
     "data": {
      "text/plain": [
       "(-46.74082388541877,\n",
       " -23.536289991520956,\n",
       " -46.68216990624233,\n",
       " -23.521244967840218)"
      ]
     },
     "execution_count": 30,
     "metadata": {},
     "output_type": "execute_result"
    }
   ],
   "source": [
    "gdf_areas.to_crs(epsg=4326).unary_union.bounds"
   ]
  },
  {
   "cell_type": "code",
   "execution_count": 37,
   "metadata": {},
   "outputs": [],
   "source": [
    "tiles = [t for t in mercantile.tiles(*gdf_areas.to_crs(epsg=4326).unary_union.bounds, zooms=14)]\n"
   ]
  },
  {
   "cell_type": "code",
   "execution_count": 46,
   "metadata": {},
   "outputs": [
    {
     "data": {
      "text/html": [
       "<div>\n",
       "<style scoped>\n",
       "    .dataframe tbody tr th:only-of-type {\n",
       "        vertical-align: middle;\n",
       "    }\n",
       "\n",
       "    .dataframe tbody tr th {\n",
       "        vertical-align: top;\n",
       "    }\n",
       "\n",
       "    .dataframe thead th {\n",
       "        text-align: right;\n",
       "    }\n",
       "</style>\n",
       "<table border=\"1\" class=\"dataframe\">\n",
       "  <thead>\n",
       "    <tr style=\"text-align: right;\">\n",
       "      <th></th>\n",
       "      <th>geometry</th>\n",
       "      <th>title</th>\n",
       "    </tr>\n",
       "  </thead>\n",
       "  <tbody>\n",
       "    <tr>\n",
       "      <th>0</th>\n",
       "      <td>POLYGON ((-46.75781 -23.52370, -46.75781 -23.5...</td>\n",
       "      <td>XYZ tile Tile(x=6064, y=9293, z=14)</td>\n",
       "    </tr>\n",
       "    <tr>\n",
       "      <th>1</th>\n",
       "      <td>POLYGON ((-46.75781 -23.54385, -46.75781 -23.5...</td>\n",
       "      <td>XYZ tile Tile(x=6064, y=9294, z=14)</td>\n",
       "    </tr>\n",
       "    <tr>\n",
       "      <th>2</th>\n",
       "      <td>POLYGON ((-46.73584 -23.52370, -46.73584 -23.5...</td>\n",
       "      <td>XYZ tile Tile(x=6065, y=9293, z=14)</td>\n",
       "    </tr>\n",
       "    <tr>\n",
       "      <th>3</th>\n",
       "      <td>POLYGON ((-46.73584 -23.54385, -46.73584 -23.5...</td>\n",
       "      <td>XYZ tile Tile(x=6065, y=9294, z=14)</td>\n",
       "    </tr>\n",
       "    <tr>\n",
       "      <th>4</th>\n",
       "      <td>POLYGON ((-46.71387 -23.52370, -46.71387 -23.5...</td>\n",
       "      <td>XYZ tile Tile(x=6066, y=9293, z=14)</td>\n",
       "    </tr>\n",
       "    <tr>\n",
       "      <th>5</th>\n",
       "      <td>POLYGON ((-46.71387 -23.54385, -46.71387 -23.5...</td>\n",
       "      <td>XYZ tile Tile(x=6066, y=9294, z=14)</td>\n",
       "    </tr>\n",
       "    <tr>\n",
       "      <th>6</th>\n",
       "      <td>POLYGON ((-46.69189 -23.52370, -46.69189 -23.5...</td>\n",
       "      <td>XYZ tile Tile(x=6067, y=9293, z=14)</td>\n",
       "    </tr>\n",
       "    <tr>\n",
       "      <th>7</th>\n",
       "      <td>POLYGON ((-46.69189 -23.54385, -46.69189 -23.5...</td>\n",
       "      <td>XYZ tile Tile(x=6067, y=9294, z=14)</td>\n",
       "    </tr>\n",
       "  </tbody>\n",
       "</table>\n",
       "</div>"
      ],
      "text/plain": [
       "                                            geometry  \\\n",
       "0  POLYGON ((-46.75781 -23.52370, -46.75781 -23.5...   \n",
       "1  POLYGON ((-46.75781 -23.54385, -46.75781 -23.5...   \n",
       "2  POLYGON ((-46.73584 -23.52370, -46.73584 -23.5...   \n",
       "3  POLYGON ((-46.73584 -23.54385, -46.73584 -23.5...   \n",
       "4  POLYGON ((-46.71387 -23.52370, -46.71387 -23.5...   \n",
       "5  POLYGON ((-46.71387 -23.54385, -46.71387 -23.5...   \n",
       "6  POLYGON ((-46.69189 -23.52370, -46.69189 -23.5...   \n",
       "7  POLYGON ((-46.69189 -23.54385, -46.69189 -23.5...   \n",
       "\n",
       "                                 title  \n",
       "0  XYZ tile Tile(x=6064, y=9293, z=14)  \n",
       "1  XYZ tile Tile(x=6064, y=9294, z=14)  \n",
       "2  XYZ tile Tile(x=6065, y=9293, z=14)  \n",
       "3  XYZ tile Tile(x=6065, y=9294, z=14)  \n",
       "4  XYZ tile Tile(x=6066, y=9293, z=14)  \n",
       "5  XYZ tile Tile(x=6066, y=9294, z=14)  \n",
       "6  XYZ tile Tile(x=6067, y=9293, z=14)  \n",
       "7  XYZ tile Tile(x=6067, y=9294, z=14)  "
      ]
     },
     "execution_count": 46,
     "metadata": {},
     "output_type": "execute_result"
    }
   ],
   "source": [
    "gpd.GeoDataFrame.from_features([mercantile.feature(t) for t in tiles])#.to_file('tmp/tiles.gpkg', driver='GPKG')"
   ]
  },
  {
   "cell_type": "code",
   "execution_count": 10,
   "metadata": {},
   "outputs": [
    {
     "data": {
      "text/plain": [
       "<AxesSubplot:>"
      ]
     },
     "execution_count": 10,
     "metadata": {},
     "output_type": "execute_result"
    },
    {
     "data": {
      "image/png": "[encoded data removed]",
      "text/plain": [
       "<Figure size 432x288 with 1 Axes>"
      ]
     },
     "metadata": {
      "needs_background": "light"
     },
     "output_type": "display_data"
    }
   ],
   "source": [
    "areas.plot()"
   ]
  },
  {
   "cell_type": "code",
   "execution_count": null,
   "metadata": {},
   "outputs": [],
   "source": []
  }
 ],
 "metadata": {
  "interpreter": {
   "hash": "9cedc55b3cbf3c6d99ff990673a8ddd4523edd6f7760ad30a6f7807a45845135"
  },
  "kernelspec": {
   "display_name": "Python 3.8.12 ('geo')",
   "language": "python",
   "name": "python3"
  },
  "language_info": {
   "codemirror_mode": {
    "name": "ipython",
    "version": 3
   },
   "file_extension": ".py",
   "mimetype": "text/x-python",
   "name": "python",
   "nbconvert_exporter": "python",
   "pygments_lexer": "ipython3",
   "version": "3.8.12"
  },
  "orig_nbformat": 4
 },
 "nbformat": 4,
 "nbformat_minor": 2
}
