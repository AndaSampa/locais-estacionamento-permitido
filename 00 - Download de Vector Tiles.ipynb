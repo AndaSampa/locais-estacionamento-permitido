{
 "cells": [
  {
   "cell_type": "markdown",
   "metadata": {},
   "source": [
    "## Gerando box de interesse"
   ]
  },
  {
   "cell_type": "code",
   "execution_count": 11,
   "metadata": {},
   "outputs": [],
   "source": [
    "import geopandas as gpd\n",
    "import pandas as pd\n",
    "from IPython.display import clear_output, display"
   ]
  },
  {
   "cell_type": "code",
   "execution_count": 2,
   "metadata": {},
   "outputs": [],
   "source": [
    "areas = []\n",
    "areas.append(gpd.read_file('zip://downloads/fwdenviodosshapefilesestudodecaladasdapompiae.zip!zona od pompeia.shp'))\n",
    "areas.append(gpd.read_file('zip://downloads/fwdenviodosshapefilesestudodecaladasdapompiae.zip!zona od vila leopoldina.shp'))\n",
    "gdf_areas = gpd.GeoDataFrame(pd.concat(areas))"
   ]
  },
  {
   "cell_type": "code",
   "execution_count": 3,
   "metadata": {},
   "outputs": [
    {
     "name": "stdout",
     "output_type": "stream",
     "text": [
      "(322278.10529588326, 7396095.722869624, 328267.5011342565, 7397708.321301874)\n"
     ]
    }
   ],
   "source": [
    "print(gdf_areas.unary_union.bounds)"
   ]
  },
  {
   "cell_type": "markdown",
   "metadata": {},
   "source": [
    "## Calculando Tiles para um zoom de 14"
   ]
  },
  {
   "cell_type": "code",
   "execution_count": 4,
   "metadata": {},
   "outputs": [],
   "source": [
    "import mercantile"
   ]
  },
  {
   "cell_type": "code",
   "execution_count": 5,
   "metadata": {},
   "outputs": [
    {
     "data": {
      "text/plain": [
       "(-46.74082388541877,\n",
       " -23.536289991520956,\n",
       " -46.68216990624233,\n",
       " -23.521244967840218)"
      ]
     },
     "execution_count": 5,
     "metadata": {},
     "output_type": "execute_result"
    }
   ],
   "source": [
    "gdf_areas.to_crs(epsg=4326).unary_union.bounds"
   ]
  },
  {
   "cell_type": "code",
   "execution_count": 6,
   "metadata": {},
   "outputs": [],
   "source": [
    "tiles = [t for t in mercantile.tiles(*gdf_areas.to_crs(epsg=4326).unary_union.bounds, zooms=14)]\n"
   ]
  },
  {
   "cell_type": "code",
   "execution_count": 7,
   "metadata": {},
   "outputs": [
    {
     "data": {
      "text/html": [
       "<div>\n",
       "<style scoped>\n",
       "    .dataframe tbody tr th:only-of-type {\n",
       "        vertical-align: middle;\n",
       "    }\n",
       "\n",
       "    .dataframe tbody tr th {\n",
       "        vertical-align: top;\n",
       "    }\n",
       "\n",
       "    .dataframe thead th {\n",
       "        text-align: right;\n",
       "    }\n",
       "</style>\n",
       "<table border=\"1\" class=\"dataframe\">\n",
       "  <thead>\n",
       "    <tr style=\"text-align: right;\">\n",
       "      <th></th>\n",
       "      <th>geometry</th>\n",
       "      <th>title</th>\n",
       "    </tr>\n",
       "  </thead>\n",
       "  <tbody>\n",
       "    <tr>\n",
       "      <th>0</th>\n",
       "      <td>POLYGON ((-46.75781 -23.52370, -46.75781 -23.5...</td>\n",
       "      <td>XYZ tile Tile(x=6064, y=9293, z=14)</td>\n",
       "    </tr>\n",
       "    <tr>\n",
       "      <th>1</th>\n",
       "      <td>POLYGON ((-46.75781 -23.54385, -46.75781 -23.5...</td>\n",
       "      <td>XYZ tile Tile(x=6064, y=9294, z=14)</td>\n",
       "    </tr>\n",
       "    <tr>\n",
       "      <th>2</th>\n",
       "      <td>POLYGON ((-46.73584 -23.52370, -46.73584 -23.5...</td>\n",
       "      <td>XYZ tile Tile(x=6065, y=9293, z=14)</td>\n",
       "    </tr>\n",
       "    <tr>\n",
       "      <th>3</th>\n",
       "      <td>POLYGON ((-46.73584 -23.54385, -46.73584 -23.5...</td>\n",
       "      <td>XYZ tile Tile(x=6065, y=9294, z=14)</td>\n",
       "    </tr>\n",
       "    <tr>\n",
       "      <th>4</th>\n",
       "      <td>POLYGON ((-46.71387 -23.52370, -46.71387 -23.5...</td>\n",
       "      <td>XYZ tile Tile(x=6066, y=9293, z=14)</td>\n",
       "    </tr>\n",
       "    <tr>\n",
       "      <th>5</th>\n",
       "      <td>POLYGON ((-46.71387 -23.54385, -46.71387 -23.5...</td>\n",
       "      <td>XYZ tile Tile(x=6066, y=9294, z=14)</td>\n",
       "    </tr>\n",
       "    <tr>\n",
       "      <th>6</th>\n",
       "      <td>POLYGON ((-46.69189 -23.52370, -46.69189 -23.5...</td>\n",
       "      <td>XYZ tile Tile(x=6067, y=9293, z=14)</td>\n",
       "    </tr>\n",
       "    <tr>\n",
       "      <th>7</th>\n",
       "      <td>POLYGON ((-46.69189 -23.54385, -46.69189 -23.5...</td>\n",
       "      <td>XYZ tile Tile(x=6067, y=9294, z=14)</td>\n",
       "    </tr>\n",
       "  </tbody>\n",
       "</table>\n",
       "</div>"
      ],
      "text/plain": [
       "                                            geometry  \\\n",
       "0  POLYGON ((-46.75781 -23.52370, -46.75781 -23.5...   \n",
       "1  POLYGON ((-46.75781 -23.54385, -46.75781 -23.5...   \n",
       "2  POLYGON ((-46.73584 -23.52370, -46.73584 -23.5...   \n",
       "3  POLYGON ((-46.73584 -23.54385, -46.73584 -23.5...   \n",
       "4  POLYGON ((-46.71387 -23.52370, -46.71387 -23.5...   \n",
       "5  POLYGON ((-46.71387 -23.54385, -46.71387 -23.5...   \n",
       "6  POLYGON ((-46.69189 -23.52370, -46.69189 -23.5...   \n",
       "7  POLYGON ((-46.69189 -23.54385, -46.69189 -23.5...   \n",
       "\n",
       "                                 title  \n",
       "0  XYZ tile Tile(x=6064, y=9293, z=14)  \n",
       "1  XYZ tile Tile(x=6064, y=9294, z=14)  \n",
       "2  XYZ tile Tile(x=6065, y=9293, z=14)  \n",
       "3  XYZ tile Tile(x=6065, y=9294, z=14)  \n",
       "4  XYZ tile Tile(x=6066, y=9293, z=14)  \n",
       "5  XYZ tile Tile(x=6066, y=9294, z=14)  \n",
       "6  XYZ tile Tile(x=6067, y=9293, z=14)  \n",
       "7  XYZ tile Tile(x=6067, y=9294, z=14)  "
      ]
     },
     "execution_count": 7,
     "metadata": {},
     "output_type": "execute_result"
    }
   ],
   "source": [
    "gpd.GeoDataFrame.from_features([mercantile.feature(t) for t in tiles])#.to_file('tmp/tiles.gpkg', driver='GPKG')"
   ]
  },
  {
   "cell_type": "markdown",
   "metadata": {},
   "source": [
    "## Download dos Tiles de Vetor"
   ]
  },
  {
   "cell_type": "code",
   "execution_count": 8,
   "metadata": {},
   "outputs": [],
   "source": [
    "import mytokens # Keep the secrets saved in ignored file\n",
    "import mapbox_vector_tile\n",
    "from urllib.request import urlopen\n",
    "from vt2geojson.tools import vt_bytes_to_geojson"
   ]
  },
  {
   "cell_type": "code",
   "execution_count": 9,
   "metadata": {},
   "outputs": [],
   "source": [
    "# Mapilary Vector Tiles URLs\n",
    "# https://www.mapillary.com/developer/tiles-documentation/\n",
    "\n",
    "z, x, y = 0, 0, 0\n",
    "\n",
    "map_features_points_url =  f'https://tiles.mapillary.com/maps/vtp/mly_map_feature_point/2/' #{z}/{x}/{y}\n",
    "map_features_traffic_signs_url = f'https://tiles.mapillary.com/maps/vtp/mly_map_feature_traffic_sign/2/' #{z}/{x}/{y}\n",
    "map_computed_coverage = f'https://tiles.mapillary.com/maps/vtp/mly1_computed_public/2/' #{z}/{x}/{y}"
   ]
  },
  {
   "cell_type": "code",
   "execution_count": 12,
   "metadata": {},
   "outputs": [
    {
     "name": "stdout",
     "output_type": "stream",
     "text": [
      "Processando Tile 6067/9293/14\n"
     ]
    }
   ],
   "source": [
    "points, signs, computed = [], [], []\n",
    "\n",
    "for x, y, z in [t for t in tiles]:\n",
    "\n",
    "    clear_output(wait=True)\n",
    "    print(f'Processando Tile {x}/{y}/{z}')\n",
    "\n",
    "    with urlopen(map_features_points_url + f'{z}/{x}/{y}?access_token={mytokens.access_token}') as response:\n",
    "        pbf = response.read()\n",
    "        points.append(gpd.GeoDataFrame.from_features(vt_bytes_to_geojson(pbf, x, y, z)))\n",
    "\n",
    "    with urlopen(map_features_traffic_signs_url + f'{z}/{x}/{y}?access_token={mytokens.access_token}') as response:\n",
    "        pbf = response.read()\n",
    "        signs.append(gpd.GeoDataFrame.from_features(vt_bytes_to_geojson(pbf, x, y, z)))    \n",
    "\n",
    "    with urlopen(map_computed_coverage + f'{z}/{x}/{y}?access_token={mytokens.access_token}') as response:\n",
    "        pbf = response.read()\n",
    "        computed.append(gpd.GeoDataFrame.from_features(vt_bytes_to_geojson(pbf, x, y, z)))  \n",
    "    # break"
   ]
  },
  {
   "cell_type": "code",
   "execution_count": 97,
   "metadata": {},
   "outputs": [],
   "source": [
    "df_signs = pd.concat(signs)\n",
    "df_signs['first_seen_at'] = pd.to_datetime(df_signs.first_seen_at, unit='ms')\n",
    "df_signs['last_seen_at'] = pd.to_datetime(df_signs.last_seen_at, unit='ms')\n",
    "gdf_signs = gpd.GeoDataFrame(df_signs)"
   ]
  },
  {
   "cell_type": "code",
   "execution_count": 99,
   "metadata": {},
   "outputs": [],
   "source": [
    "df_points = pd.concat(points)\n",
    "df_points['first_seen_at'] = pd.to_datetime(df_points.first_seen_at, unit='ms')\n",
    "df_points['last_seen_at'] = pd.to_datetime(df_points.last_seen_at, unit='ms')\n",
    "gdf_points = gpd.GeoDataFrame(df_points)"
   ]
  },
  {
   "cell_type": "code",
   "execution_count": null,
   "metadata": {},
   "outputs": [],
   "source": [
    "df_computed = pd.concat(computed)\n",
    "df_computed['first_seen_at'] = pd.to_datetime(df_computed.first_seen_at, unit='ms')\n",
    "df_computed['last_seen_at'] = pd.to_datetime(df_computed.last_seen_at, unit='ms')\n",
    "gdf_computed = gpd.GeoDataFrame(df_computed)"
   ]
  },
  {
   "cell_type": "code",
   "execution_count": 102,
   "metadata": {},
   "outputs": [
    {
     "name": "stderr",
     "output_type": "stream",
     "text": [
      "/home/feromes/miniconda3/envs/geo/lib/python3.8/site-packages/geopandas/io/file.py:362: FutureWarning: pandas.Int64Index is deprecated and will be removed from pandas in a future version. Use pandas.Index with the appropriate dtype instead.\n",
      "  pd.Int64Index,\n",
      "/home/feromes/miniconda3/envs/geo/lib/python3.8/site-packages/geopandas/io/file.py:362: FutureWarning: pandas.Int64Index is deprecated and will be removed from pandas in a future version. Use pandas.Index with the appropriate dtype instead.\n",
      "  pd.Int64Index,\n"
     ]
    }
   ],
   "source": [
    "gdf_signs.to_file('resultados/sinalizacao-pompeia-vila-leopoldina.gpkg', driver='GPKG', crs=4326)\n",
    "gdf_points.to_file('resultados/points-pompeia-vila-leopoldina.gpkg', driver='GPKG', crs=4326)"
   ]
  },
  {
   "cell_type": "code",
   "execution_count": 120,
   "metadata": {},
   "outputs": [
    {
     "data": {
      "text/plain": [
       "regulatory--no-parking--g5                   2205\n",
       "regulatory--no-parking--g9                      6\n",
       "regulatory--no-parking-or-no-stopping--g3       5\n",
       "regulatory--no-parking--g2                      3\n",
       "regulatory--no-parking-or-no-stopping--g4       1\n",
       "regulatory--end-of-no-parking--g1               1\n",
       "regulatory--no-parking-or-no-stopping--g1       1\n",
       "Name: value, dtype: int64"
      ]
     },
     "execution_count": 120,
     "metadata": {},
     "output_type": "execute_result"
    }
   ],
   "source": [
    "gdf_signs.loc[gdf_signs.value.str.contains('no-parking'), 'value'].value_counts()"
   ]
  },
  {
   "cell_type": "code",
   "execution_count": null,
   "metadata": {},
   "outputs": [],
   "source": []
  }
 ],
 "metadata": {
  "interpreter": {
   "hash": "9cedc55b3cbf3c6d99ff990673a8ddd4523edd6f7760ad30a6f7807a45845135"
  },
  "kernelspec": {
   "display_name": "Python 3.8.12 ('geo')",
   "language": "python",
   "name": "python3"
  },
  "language_info": {
   "codemirror_mode": {
    "name": "ipython",
    "version": 3
   },
   "file_extension": ".py",
   "mimetype": "text/x-python",
   "name": "python",
   "nbconvert_exporter": "python",
   "pygments_lexer": "ipython3",
   "version": "3.8.12"
  },
  "orig_nbformat": 4
 },
 "nbformat": 4,
 "nbformat_minor": 2
}
