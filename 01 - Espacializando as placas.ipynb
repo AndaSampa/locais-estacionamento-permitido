{
 "cells": [
  {
   "cell_type": "code",
   "execution_count": 1,
   "metadata": {},
   "outputs": [
    {
     "name": "stderr",
     "output_type": "stream",
     "text": [
      "/home/feromes/miniconda3/envs/geo/lib/python3.8/site-packages/geopandas/_compat.py:111: UserWarning: The Shapely GEOS version (3.8.0-CAPI-1.13.1 ) is incompatible with the GEOS version PyGEOS was compiled with (3.10.1-CAPI-1.16.0). Conversions between both will be slow.\n",
      "  warnings.warn(\n"
     ]
    }
   ],
   "source": [
    "import geopandas as gpd\n",
    "import pandas as pd"
   ]
  },
  {
   "cell_type": "code",
   "execution_count": 8,
   "metadata": {},
   "outputs": [],
   "source": [
    "gdf_placas = gpd.read_file('resultados/sinalizacao-pompeia-vila-leopoldina.gpkg')\n",
    "gdf_points = gpd.read_file('resultados/points-pompeia-vila-leopoldina.gpkg')"
   ]
  },
  {
   "cell_type": "code",
   "execution_count": 3,
   "metadata": {},
   "outputs": [],
   "source": [
    "gdf_placas.loc[:, ['tema', 'informacao', 'grupo']] = [[p0, p1, p2] for [p0, p1, p2] in gdf_placas.value.str.split('--')]"
   ]
  },
  {
   "cell_type": "code",
   "execution_count": 4,
   "metadata": {},
   "outputs": [
    {
     "data": {
      "text/plain": [
       "regulatory       7952\n",
       "information      6863\n",
       "warning           540\n",
       "complementary     233\n",
       "general            52\n",
       "Name: tema, dtype: int64"
      ]
     },
     "execution_count": 4,
     "metadata": {},
     "output_type": "execute_result"
    }
   ],
   "source": [
    "gdf_placas.tema.value_counts()"
   ]
  },
  {
   "cell_type": "code",
   "execution_count": 5,
   "metadata": {},
   "outputs": [
    {
     "data": {
      "text/plain": [
       "127"
      ]
     },
     "execution_count": 5,
     "metadata": {},
     "output_type": "execute_result"
    }
   ],
   "source": [
    "len(gdf_placas.informacao.value_counts())"
   ]
  },
  {
   "cell_type": "code",
   "execution_count": 6,
   "metadata": {},
   "outputs": [
    {
     "data": {
      "text/plain": [
       "g1     10175\n",
       "g5      2209\n",
       "g2      1840\n",
       "g3      1116\n",
       "g6       130\n",
       "g4        90\n",
       "g9        78\n",
       "g8         1\n",
       "g10        1\n",
       "Name: grupo, dtype: int64"
      ]
     },
     "execution_count": 6,
     "metadata": {},
     "output_type": "execute_result"
    }
   ],
   "source": [
    "gdf_placas.grupo.value_counts()"
   ]
  },
  {
   "cell_type": "code",
   "execution_count": 7,
   "metadata": {},
   "outputs": [
    {
     "name": "stderr",
     "output_type": "stream",
     "text": [
      "/home/feromes/miniconda3/envs/geo/lib/python3.8/site-packages/geopandas/io/file.py:362: FutureWarning: pandas.Int64Index is deprecated and will be removed from pandas in a future version. Use pandas.Index with the appropriate dtype instead.\n",
      "  pd.Int64Index,\n"
     ]
    }
   ],
   "source": [
    "gdf_placas[gdf_placas.informacao.str.contains('parking')].to_file('resultados/no-parking-pompeia-vila-leopoldina.gpkg', driver='GPKG', crs=4326)"
   ]
  },
  {
   "cell_type": "code",
   "execution_count": 13,
   "metadata": {},
   "outputs": [
    {
     "name": "stderr",
     "output_type": "stream",
     "text": [
      "/home/feromes/miniconda3/envs/geo/lib/python3.8/site-packages/geopandas/io/file.py:362: FutureWarning: pandas.Int64Index is deprecated and will be removed from pandas in a future version. Use pandas.Index with the appropriate dtype instead.\n",
      "  pd.Int64Index,\n"
     ]
    }
   ],
   "source": [
    "gdf_points[gdf_points.value.str.contains('walk')].to_file('resultados/walking-pompeia-vila-leopoldina.gpkg', driver='GPKG', crs=4326)"
   ]
  },
  {
   "cell_type": "code",
   "execution_count": 18,
   "metadata": {},
   "outputs": [
    {
     "data": {
      "text/plain": [
       "object--support--utility-pole                        17195\n",
       "object--street-light                                  8630\n",
       "object--sign--advertisement                           4529\n",
       "object--sign--store                                   3620\n",
       "marking--discrete--crosswalk-zebra                    1974\n",
       "construction--flat--driveway                          1952\n",
       "object--traffic-light--general-upright                1615\n",
       "object--support--pole                                 1515\n",
       "object--traffic-sign--front                           1262\n",
       "object--trash-can                                      911\n",
       "object--traffic-sign--direction-front                  756\n",
       "object--manhole                                        660\n",
       "marking--discrete--other-marking                       641\n",
       "object--traffic-cone                                   554\n",
       "object--traffic-light--pedestrians                     531\n",
       "object--junction-box                                   450\n",
       "marking--discrete--stop-line                           431\n",
       "object--banner                                         395\n",
       "object--catch-basin                                    382\n",
       "marking--discrete--arrow--straight                     343\n",
       "construction--barrier--temporary                       250\n",
       "object--traffic-light--general-upright-front           200\n",
       "marking--discrete--text                                168\n",
       "object--traffic-sign--back                             150\n",
       "marking--discrete--symbol--bicycle                      99\n",
       "object--traffic-light--general-upright-side             91\n",
       "object--bench                                           88\n",
       "marking--discrete--arrow--left                          88\n",
       "object--support--traffic-sign-frame                     64\n",
       "marking--discrete--arrow--right                         62\n",
       "object--sign--information                               58\n",
       "object--cctv-camera                                     53\n",
       "object--traffic-light--pedestrians-side                 51\n",
       "object--traffic-sign--direction-back                    48\n",
       "object--fire-hydrant                                    46\n",
       "object--traffic-light--general-upright-back             42\n",
       "marking--discrete--arrow--split-right-or-straight       39\n",
       "object--bike-rack                                       30\n",
       "object--traffic-light--general-horizontal               30\n",
       "marking--discrete--arrow--split-left-or-straight        26\n",
       "object--mailbox                                         17\n",
       "object--water-valve                                     15\n",
       "object--traffic-light--pedestrians-front                13\n",
       "construction--flat--crosswalk-plain                     11\n",
       "marking--discrete--text--other                          10\n",
       "object--sign--back                                       8\n",
       "object--traffic-light--general-single                    3\n",
       "marking--discrete--give-way-single                       2\n",
       "object--phone-booth                                      2\n",
       "object--sign--other                                      1\n",
       "object--traffic-sign--temporary-front                    1\n",
       "object--parking-meter                                    1\n",
       "object--traffic-light--cyclists                          1\n",
       "Name: value, dtype: int64"
      ]
     },
     "execution_count": 18,
     "metadata": {},
     "output_type": "execute_result"
    }
   ],
   "source": [
    "gdf_points['value'].value_counts()"
   ]
  },
  {
   "cell_type": "code",
   "execution_count": null,
   "metadata": {},
   "outputs": [],
   "source": [
    "## TODO\n"
   ]
  }
 ],
 "metadata": {
  "interpreter": {
   "hash": "9cedc55b3cbf3c6d99ff990673a8ddd4523edd6f7760ad30a6f7807a45845135"
  },
  "kernelspec": {
   "display_name": "Python 3.8.12 ('geo')",
   "language": "python",
   "name": "python3"
  },
  "language_info": {
   "codemirror_mode": {
    "name": "ipython",
    "version": 3
   },
   "file_extension": ".py",
   "mimetype": "text/x-python",
   "name": "python",
   "nbconvert_exporter": "python",
   "pygments_lexer": "ipython3",
   "version": "3.8.12"
  },
  "orig_nbformat": 4
 },
 "nbformat": 4,
 "nbformat_minor": 2
}
