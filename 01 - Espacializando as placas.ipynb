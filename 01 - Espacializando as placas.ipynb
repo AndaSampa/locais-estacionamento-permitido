{
 "cells": [
  {
   "cell_type": "code",
   "execution_count": 1,
   "metadata": {},
   "outputs": [
    {
     "name": "stderr",
     "output_type": "stream",
     "text": [
      "/home/feromes/miniconda3/envs/geo/lib/python3.8/site-packages/geopandas/_compat.py:111: UserWarning: The Shapely GEOS version (3.8.0-CAPI-1.13.1 ) is incompatible with the GEOS version PyGEOS was compiled with (3.10.1-CAPI-1.16.0). Conversions between both will be slow.\n",
      "  warnings.warn(\n"
     ]
    }
   ],
   "source": [
    "import geopandas as gpd\n",
    "import pandas as pd\n",
    "from shapely.ops import nearest_points"
   ]
  },
  {
   "cell_type": "code",
   "execution_count": 2,
   "metadata": {},
   "outputs": [],
   "source": [
    "gdf_placas = gpd.read_file('resultados/sinalizacao-pompeia-vila-leopoldina.gpkg')\n",
    "gdf_points = gpd.read_file('resultados/points-pompeia-vila-leopoldina.gpkg')"
   ]
  },
  {
   "cell_type": "code",
   "execution_count": 3,
   "metadata": {},
   "outputs": [],
   "source": [
    "gdf_distritos = gpd.read_file('zip://downloads/SIRGAS_SHP_distrito.zip!SIRGAS_SHP_distrito', crs='EPSG:31983')\n",
    "gdf_distritos = gdf_distritos.set_crs(epsg=31983)"
   ]
  },
  {
   "cell_type": "code",
   "execution_count": 4,
   "metadata": {},
   "outputs": [],
   "source": [
    "gdf_placas.loc[:, ['tema', 'informacao', 'grupo']] = [[p0, p1, p2] for [p0, p1, p2] in gdf_placas.value.str.split('--')]"
   ]
  },
  {
   "cell_type": "code",
   "execution_count": 5,
   "metadata": {},
   "outputs": [
    {
     "data": {
      "text/plain": [
       "regulatory       7952\n",
       "information      6863\n",
       "warning           540\n",
       "complementary     233\n",
       "general            52\n",
       "Name: tema, dtype: int64"
      ]
     },
     "execution_count": 5,
     "metadata": {},
     "output_type": "execute_result"
    }
   ],
   "source": [
    "gdf_placas.tema.value_counts()"
   ]
  },
  {
   "cell_type": "code",
   "execution_count": 6,
   "metadata": {},
   "outputs": [
    {
     "data": {
      "text/plain": [
       "127"
      ]
     },
     "execution_count": 6,
     "metadata": {},
     "output_type": "execute_result"
    }
   ],
   "source": [
    "len(gdf_placas.informacao.value_counts())"
   ]
  },
  {
   "cell_type": "code",
   "execution_count": 7,
   "metadata": {},
   "outputs": [
    {
     "data": {
      "text/plain": [
       "g1     10175\n",
       "g5      2209\n",
       "g2      1840\n",
       "g3      1116\n",
       "g6       130\n",
       "g4        90\n",
       "g9        78\n",
       "g8         1\n",
       "g10        1\n",
       "Name: grupo, dtype: int64"
      ]
     },
     "execution_count": 7,
     "metadata": {},
     "output_type": "execute_result"
    }
   ],
   "source": [
    "gdf_placas.grupo.value_counts()"
   ]
  },
  {
   "cell_type": "code",
   "execution_count": 8,
   "metadata": {},
   "outputs": [
    {
     "name": "stderr",
     "output_type": "stream",
     "text": [
      "/home/feromes/miniconda3/envs/geo/lib/python3.8/site-packages/geopandas/io/file.py:362: FutureWarning: pandas.Int64Index is deprecated and will be removed from pandas in a future version. Use pandas.Index with the appropriate dtype instead.\n",
      "  pd.Int64Index,\n"
     ]
    }
   ],
   "source": [
    "gdf_placas[gdf_placas.informacao.str.contains('parking')].to_file('resultados/no-parking-pompeia-vila-leopoldina.gpkg', driver='GPKG', crs=4326)"
   ]
  },
  {
   "cell_type": "code",
   "execution_count": 9,
   "metadata": {},
   "outputs": [
    {
     "name": "stderr",
     "output_type": "stream",
     "text": [
      "/home/feromes/miniconda3/envs/geo/lib/python3.8/site-packages/geopandas/io/file.py:362: FutureWarning: pandas.Int64Index is deprecated and will be removed from pandas in a future version. Use pandas.Index with the appropriate dtype instead.\n",
      "  pd.Int64Index,\n"
     ]
    }
   ],
   "source": [
    "gdf_points[gdf_points.value.str.contains('walk')].to_file('resultados/walking-pompeia-vila-leopoldina.gpkg', driver='GPKG', crs=4326)"
   ]
  },
  {
   "cell_type": "code",
   "execution_count": 10,
   "metadata": {},
   "outputs": [
    {
     "data": {
      "text/plain": [
       "object--support--utility-pole                        17195\n",
       "object--street-light                                  8630\n",
       "object--sign--advertisement                           4529\n",
       "object--sign--store                                   3620\n",
       "marking--discrete--crosswalk-zebra                    1974\n",
       "construction--flat--driveway                          1952\n",
       "object--traffic-light--general-upright                1615\n",
       "object--support--pole                                 1515\n",
       "object--traffic-sign--front                           1262\n",
       "object--trash-can                                      911\n",
       "object--traffic-sign--direction-front                  756\n",
       "object--manhole                                        660\n",
       "marking--discrete--other-marking                       641\n",
       "object--traffic-cone                                   554\n",
       "object--traffic-light--pedestrians                     531\n",
       "object--junction-box                                   450\n",
       "marking--discrete--stop-line                           431\n",
       "object--banner                                         395\n",
       "object--catch-basin                                    382\n",
       "marking--discrete--arrow--straight                     343\n",
       "construction--barrier--temporary                       250\n",
       "object--traffic-light--general-upright-front           200\n",
       "marking--discrete--text                                168\n",
       "object--traffic-sign--back                             150\n",
       "marking--discrete--symbol--bicycle                      99\n",
       "object--traffic-light--general-upright-side             91\n",
       "object--bench                                           88\n",
       "marking--discrete--arrow--left                          88\n",
       "object--support--traffic-sign-frame                     64\n",
       "marking--discrete--arrow--right                         62\n",
       "object--sign--information                               58\n",
       "object--cctv-camera                                     53\n",
       "object--traffic-light--pedestrians-side                 51\n",
       "object--traffic-sign--direction-back                    48\n",
       "object--fire-hydrant                                    46\n",
       "object--traffic-light--general-upright-back             42\n",
       "marking--discrete--arrow--split-right-or-straight       39\n",
       "object--bike-rack                                       30\n",
       "object--traffic-light--general-horizontal               30\n",
       "marking--discrete--arrow--split-left-or-straight        26\n",
       "object--mailbox                                         17\n",
       "object--water-valve                                     15\n",
       "object--traffic-light--pedestrians-front                13\n",
       "construction--flat--crosswalk-plain                     11\n",
       "marking--discrete--text--other                          10\n",
       "object--sign--back                                       8\n",
       "object--traffic-light--general-single                    3\n",
       "marking--discrete--give-way-single                       2\n",
       "object--phone-booth                                      2\n",
       "object--sign--other                                      1\n",
       "object--traffic-sign--temporary-front                    1\n",
       "object--parking-meter                                    1\n",
       "object--traffic-light--cyclists                          1\n",
       "Name: value, dtype: int64"
      ]
     },
     "execution_count": 10,
     "metadata": {},
     "output_type": "execute_result"
    }
   ],
   "source": [
    "gdf_points['value'].value_counts()"
   ]
  },
  {
   "cell_type": "code",
   "execution_count": 12,
   "metadata": {},
   "outputs": [],
   "source": [
    "convex_hull = gdf_placas.to_crs(epsg=31983).dissolve().geometry.convex_hull"
   ]
  },
  {
   "cell_type": "markdown",
   "metadata": {},
   "source": [
    "## TRabalhando com o distrito da Lapa"
   ]
  },
  {
   "cell_type": "code",
   "execution_count": 13,
   "metadata": {},
   "outputs": [
    {
     "data": {
      "text/html": [
       "<div>\n",
       "<style scoped>\n",
       "    .dataframe tbody tr th:only-of-type {\n",
       "        vertical-align: middle;\n",
       "    }\n",
       "\n",
       "    .dataframe tbody tr th {\n",
       "        vertical-align: top;\n",
       "    }\n",
       "\n",
       "    .dataframe thead th {\n",
       "        text-align: right;\n",
       "    }\n",
       "</style>\n",
       "<table border=\"1\" class=\"dataframe\">\n",
       "  <thead>\n",
       "    <tr style=\"text-align: right;\">\n",
       "      <th></th>\n",
       "      <th>ds_cd_sub</th>\n",
       "      <th>ds_sigla</th>\n",
       "      <th>ds_subpref</th>\n",
       "      <th>ds_nome</th>\n",
       "      <th>ds_codigo</th>\n",
       "      <th>geometry</th>\n",
       "    </tr>\n",
       "  </thead>\n",
       "  <tbody>\n",
       "    <tr>\n",
       "      <th>68</th>\n",
       "      <td>08</td>\n",
       "      <td>LAP</td>\n",
       "      <td>LAPA</td>\n",
       "      <td>LAPA</td>\n",
       "      <td>48</td>\n",
       "      <td>POLYGON ((323721.814 7398433.381, 323730.119 7...</td>\n",
       "    </tr>\n",
       "  </tbody>\n",
       "</table>\n",
       "</div>"
      ],
      "text/plain": [
       "   ds_cd_sub ds_sigla ds_subpref ds_nome ds_codigo  \\\n",
       "68        08      LAP       LAPA    LAPA        48   \n",
       "\n",
       "                                             geometry  \n",
       "68  POLYGON ((323721.814 7398433.381, 323730.119 7...  "
      ]
     },
     "execution_count": 13,
     "metadata": {},
     "output_type": "execute_result"
    }
   ],
   "source": [
    "gdf_distritos = gdf_distritos[gdf_distritos.ds_nome == 'LAPA']\n",
    "gdf_distritos"
   ]
  },
  {
   "cell_type": "code",
   "execution_count": 14,
   "metadata": {},
   "outputs": [],
   "source": [
    "gdf_placas = gdf_placas.to_crs(epsg=31983).overlay(gdf_distritos[gdf_distritos.ds_nome == 'LAPA'])"
   ]
  },
  {
   "cell_type": "code",
   "execution_count": 15,
   "metadata": {},
   "outputs": [],
   "source": [
    "dist = gdf_distritos.iloc[0]\n",
    "gdf_meios_fios = gpd.read_file(f'../poligono-de-vias/resultado/pre-processamentos/{dist.ds_codigo}_meio-fio_{dist.ds_nome}.gpkg')\n"
   ]
  },
  {
   "cell_type": "code",
   "execution_count": 16,
   "metadata": {},
   "outputs": [
    {
     "data": {
      "text/html": [
       "<div>\n",
       "<style scoped>\n",
       "    .dataframe tbody tr th:only-of-type {\n",
       "        vertical-align: middle;\n",
       "    }\n",
       "\n",
       "    .dataframe tbody tr th {\n",
       "        vertical-align: top;\n",
       "    }\n",
       "\n",
       "    .dataframe thead th {\n",
       "        text-align: right;\n",
       "    }\n",
       "</style>\n",
       "<table border=\"1\" class=\"dataframe\">\n",
       "  <thead>\n",
       "    <tr style=\"text-align: right;\">\n",
       "      <th></th>\n",
       "      <th>first_seen_at</th>\n",
       "      <th>id</th>\n",
       "      <th>last_seen_at</th>\n",
       "      <th>value</th>\n",
       "      <th>tema</th>\n",
       "      <th>informacao</th>\n",
       "      <th>grupo</th>\n",
       "      <th>ds_cd_sub</th>\n",
       "      <th>ds_sigla</th>\n",
       "      <th>ds_subpref</th>\n",
       "      <th>ds_nome</th>\n",
       "      <th>ds_codigo</th>\n",
       "      <th>geometry</th>\n",
       "      <th>index_right</th>\n",
       "      <th>lg_codlog</th>\n",
       "      <th>lg_seg_id</th>\n",
       "      <th>lado_esquerdo</th>\n",
       "      <th>distancia_original</th>\n",
       "    </tr>\n",
       "  </thead>\n",
       "  <tbody>\n",
       "    <tr>\n",
       "      <th>0</th>\n",
       "      <td>2019-04-11T15:34:56</td>\n",
       "      <td>183956490173832</td>\n",
       "      <td>2019-04-11T15:34:56</td>\n",
       "      <td>regulatory--maximum-speed-limit-50--g1</td>\n",
       "      <td>regulatory</td>\n",
       "      <td>maximum-speed-limit-50</td>\n",
       "      <td>g1</td>\n",
       "      <td>08</td>\n",
       "      <td>LAP</td>\n",
       "      <td>LAPA</td>\n",
       "      <td>LAPA</td>\n",
       "      <td>48</td>\n",
       "      <td>POINT (324197.353 7398685.270)</td>\n",
       "      <td>1726</td>\n",
       "      <td>124362</td>\n",
       "      <td>45138.0</td>\n",
       "      <td>True</td>\n",
       "      <td>1.685264</td>\n",
       "    </tr>\n",
       "    <tr>\n",
       "      <th>117</th>\n",
       "      <td>2018-07-27T20:13:39</td>\n",
       "      <td>183051416931006</td>\n",
       "      <td>2018-07-27T20:13:39</td>\n",
       "      <td>regulatory--maximum-speed-limit-60--g1</td>\n",
       "      <td>regulatory</td>\n",
       "      <td>maximum-speed-limit-60</td>\n",
       "      <td>g1</td>\n",
       "      <td>08</td>\n",
       "      <td>LAP</td>\n",
       "      <td>LAPA</td>\n",
       "      <td>LAPA</td>\n",
       "      <td>48</td>\n",
       "      <td>POINT (324193.563 7398681.410)</td>\n",
       "      <td>1726</td>\n",
       "      <td>124362</td>\n",
       "      <td>45138.0</td>\n",
       "      <td>True</td>\n",
       "      <td>0.798345</td>\n",
       "    </tr>\n",
       "    <tr>\n",
       "      <th>614</th>\n",
       "      <td>2018-07-27T20:13:39</td>\n",
       "      <td>184077823495032</td>\n",
       "      <td>2018-07-27T20:13:39</td>\n",
       "      <td>information--general-directions--g1</td>\n",
       "      <td>information</td>\n",
       "      <td>general-directions</td>\n",
       "      <td>g1</td>\n",
       "      <td>08</td>\n",
       "      <td>LAP</td>\n",
       "      <td>LAPA</td>\n",
       "      <td>LAPA</td>\n",
       "      <td>48</td>\n",
       "      <td>POINT (324203.398 7398683.708)</td>\n",
       "      <td>1726</td>\n",
       "      <td>124362</td>\n",
       "      <td>45138.0</td>\n",
       "      <td>True</td>\n",
       "      <td>7.530673</td>\n",
       "    </tr>\n",
       "    <tr>\n",
       "      <th>1</th>\n",
       "      <td>2018-09-01T15:39:18</td>\n",
       "      <td>1373485323007659</td>\n",
       "      <td>2018-09-01T15:39:18</td>\n",
       "      <td>regulatory--no-parking--g5</td>\n",
       "      <td>regulatory</td>\n",
       "      <td>no-parking</td>\n",
       "      <td>g5</td>\n",
       "      <td>08</td>\n",
       "      <td>LAP</td>\n",
       "      <td>LAPA</td>\n",
       "      <td>LAPA</td>\n",
       "      <td>48</td>\n",
       "      <td>POINT (324727.559 7398424.116)</td>\n",
       "      <td>373</td>\n",
       "      <td>029289</td>\n",
       "      <td>45168.0</td>\n",
       "      <td>True</td>\n",
       "      <td>1.327614</td>\n",
       "    </tr>\n",
       "    <tr>\n",
       "      <th>2</th>\n",
       "      <td>2019-05-28T12:22:20</td>\n",
       "      <td>498666581577656</td>\n",
       "      <td>2019-05-28T12:22:20</td>\n",
       "      <td>information--general-directions--g1</td>\n",
       "      <td>information</td>\n",
       "      <td>general-directions</td>\n",
       "      <td>g1</td>\n",
       "      <td>08</td>\n",
       "      <td>LAP</td>\n",
       "      <td>LAPA</td>\n",
       "      <td>LAPA</td>\n",
       "      <td>48</td>\n",
       "      <td>POINT (323955.039 7397967.033)</td>\n",
       "      <td>957</td>\n",
       "      <td>060143</td>\n",
       "      <td>45534.0</td>\n",
       "      <td>False</td>\n",
       "      <td>0.300919</td>\n",
       "    </tr>\n",
       "    <tr>\n",
       "      <th>...</th>\n",
       "      <td>...</td>\n",
       "      <td>...</td>\n",
       "      <td>...</td>\n",
       "      <td>...</td>\n",
       "      <td>...</td>\n",
       "      <td>...</td>\n",
       "      <td>...</td>\n",
       "      <td>...</td>\n",
       "      <td>...</td>\n",
       "      <td>...</td>\n",
       "      <td>...</td>\n",
       "      <td>...</td>\n",
       "      <td>...</td>\n",
       "      <td>...</td>\n",
       "      <td>...</td>\n",
       "      <td>...</td>\n",
       "      <td>...</td>\n",
       "      <td>...</td>\n",
       "    </tr>\n",
       "    <tr>\n",
       "      <th>4587</th>\n",
       "      <td>2018-05-15T17:10:07</td>\n",
       "      <td>306515624273417</td>\n",
       "      <td>2018-05-15T17:10:07</td>\n",
       "      <td>regulatory--turn-right--g2</td>\n",
       "      <td>regulatory</td>\n",
       "      <td>turn-right</td>\n",
       "      <td>g2</td>\n",
       "      <td>08</td>\n",
       "      <td>LAP</td>\n",
       "      <td>LAPA</td>\n",
       "      <td>LAPA</td>\n",
       "      <td>48</td>\n",
       "      <td>POINT (327366.066 7396993.263)</td>\n",
       "      <td>2463</td>\n",
       "      <td>190047</td>\n",
       "      <td>47083.0</td>\n",
       "      <td>False</td>\n",
       "      <td>4.874720</td>\n",
       "    </tr>\n",
       "    <tr>\n",
       "      <th>4594</th>\n",
       "      <td>2019-06-12T18:44:55</td>\n",
       "      <td>578158490240523</td>\n",
       "      <td>2019-06-12T18:44:55</td>\n",
       "      <td>regulatory--turn-left--g3</td>\n",
       "      <td>regulatory</td>\n",
       "      <td>turn-left</td>\n",
       "      <td>g3</td>\n",
       "      <td>08</td>\n",
       "      <td>LAP</td>\n",
       "      <td>LAPA</td>\n",
       "      <td>LAPA</td>\n",
       "      <td>48</td>\n",
       "      <td>POINT (327746.027 7397339.294)</td>\n",
       "      <td>726</td>\n",
       "      <td>050725</td>\n",
       "      <td>49718.0</td>\n",
       "      <td>True</td>\n",
       "      <td>3.448408</td>\n",
       "    </tr>\n",
       "    <tr>\n",
       "      <th>4609</th>\n",
       "      <td>2018-05-14T17:54:00</td>\n",
       "      <td>897219200839050</td>\n",
       "      <td>2018-05-14T17:54:00</td>\n",
       "      <td>regulatory--no-parking--g5</td>\n",
       "      <td>regulatory</td>\n",
       "      <td>no-parking</td>\n",
       "      <td>g5</td>\n",
       "      <td>08</td>\n",
       "      <td>LAP</td>\n",
       "      <td>LAPA</td>\n",
       "      <td>LAPA</td>\n",
       "      <td>48</td>\n",
       "      <td>POINT (327780.046 7397334.791)</td>\n",
       "      <td>1301</td>\n",
       "      <td>076880</td>\n",
       "      <td>50572.0</td>\n",
       "      <td>False</td>\n",
       "      <td>5.968986</td>\n",
       "    </tr>\n",
       "    <tr>\n",
       "      <th>4612</th>\n",
       "      <td>2021-03-14T13:22:20</td>\n",
       "      <td>344792330418539</td>\n",
       "      <td>2021-03-14T13:22:20</td>\n",
       "      <td>information--general-directions--g1</td>\n",
       "      <td>information</td>\n",
       "      <td>general-directions</td>\n",
       "      <td>g1</td>\n",
       "      <td>08</td>\n",
       "      <td>LAP</td>\n",
       "      <td>LAPA</td>\n",
       "      <td>LAPA</td>\n",
       "      <td>48</td>\n",
       "      <td>POINT (327762.415 7397250.147)</td>\n",
       "      <td>796</td>\n",
       "      <td>053180</td>\n",
       "      <td>50906.0</td>\n",
       "      <td>True</td>\n",
       "      <td>16.311679</td>\n",
       "    </tr>\n",
       "    <tr>\n",
       "      <th>4617</th>\n",
       "      <td>2018-05-14T17:52:54</td>\n",
       "      <td>3880507278684941</td>\n",
       "      <td>2018-05-14T17:52:54</td>\n",
       "      <td>information--general-directions--g1</td>\n",
       "      <td>information</td>\n",
       "      <td>general-directions</td>\n",
       "      <td>g1</td>\n",
       "      <td>08</td>\n",
       "      <td>LAP</td>\n",
       "      <td>LAPA</td>\n",
       "      <td>LAPA</td>\n",
       "      <td>48</td>\n",
       "      <td>POINT (327377.315 7397340.402)</td>\n",
       "      <td>692</td>\n",
       "      <td>050423</td>\n",
       "      <td>236550.0</td>\n",
       "      <td>False</td>\n",
       "      <td>3.709103</td>\n",
       "    </tr>\n",
       "  </tbody>\n",
       "</table>\n",
       "<p>4624 rows × 18 columns</p>\n",
       "</div>"
      ],
      "text/plain": [
       "            first_seen_at                id         last_seen_at  \\\n",
       "0     2019-04-11T15:34:56   183956490173832  2019-04-11T15:34:56   \n",
       "117   2018-07-27T20:13:39   183051416931006  2018-07-27T20:13:39   \n",
       "614   2018-07-27T20:13:39   184077823495032  2018-07-27T20:13:39   \n",
       "1     2018-09-01T15:39:18  1373485323007659  2018-09-01T15:39:18   \n",
       "2     2019-05-28T12:22:20   498666581577656  2019-05-28T12:22:20   \n",
       "...                   ...               ...                  ...   \n",
       "4587  2018-05-15T17:10:07   306515624273417  2018-05-15T17:10:07   \n",
       "4594  2019-06-12T18:44:55   578158490240523  2019-06-12T18:44:55   \n",
       "4609  2018-05-14T17:54:00   897219200839050  2018-05-14T17:54:00   \n",
       "4612  2021-03-14T13:22:20   344792330418539  2021-03-14T13:22:20   \n",
       "4617  2018-05-14T17:52:54  3880507278684941  2018-05-14T17:52:54   \n",
       "\n",
       "                                       value         tema  \\\n",
       "0     regulatory--maximum-speed-limit-50--g1   regulatory   \n",
       "117   regulatory--maximum-speed-limit-60--g1   regulatory   \n",
       "614      information--general-directions--g1  information   \n",
       "1                 regulatory--no-parking--g5   regulatory   \n",
       "2        information--general-directions--g1  information   \n",
       "...                                      ...          ...   \n",
       "4587              regulatory--turn-right--g2   regulatory   \n",
       "4594               regulatory--turn-left--g3   regulatory   \n",
       "4609              regulatory--no-parking--g5   regulatory   \n",
       "4612     information--general-directions--g1  information   \n",
       "4617     information--general-directions--g1  information   \n",
       "\n",
       "                  informacao grupo ds_cd_sub ds_sigla ds_subpref ds_nome  \\\n",
       "0     maximum-speed-limit-50    g1        08      LAP       LAPA    LAPA   \n",
       "117   maximum-speed-limit-60    g1        08      LAP       LAPA    LAPA   \n",
       "614       general-directions    g1        08      LAP       LAPA    LAPA   \n",
       "1                 no-parking    g5        08      LAP       LAPA    LAPA   \n",
       "2         general-directions    g1        08      LAP       LAPA    LAPA   \n",
       "...                      ...   ...       ...      ...        ...     ...   \n",
       "4587              turn-right    g2        08      LAP       LAPA    LAPA   \n",
       "4594               turn-left    g3        08      LAP       LAPA    LAPA   \n",
       "4609              no-parking    g5        08      LAP       LAPA    LAPA   \n",
       "4612      general-directions    g1        08      LAP       LAPA    LAPA   \n",
       "4617      general-directions    g1        08      LAP       LAPA    LAPA   \n",
       "\n",
       "     ds_codigo                        geometry  index_right lg_codlog  \\\n",
       "0           48  POINT (324197.353 7398685.270)         1726    124362   \n",
       "117         48  POINT (324193.563 7398681.410)         1726    124362   \n",
       "614         48  POINT (324203.398 7398683.708)         1726    124362   \n",
       "1           48  POINT (324727.559 7398424.116)          373    029289   \n",
       "2           48  POINT (323955.039 7397967.033)          957    060143   \n",
       "...        ...                             ...          ...       ...   \n",
       "4587        48  POINT (327366.066 7396993.263)         2463    190047   \n",
       "4594        48  POINT (327746.027 7397339.294)          726    050725   \n",
       "4609        48  POINT (327780.046 7397334.791)         1301    076880   \n",
       "4612        48  POINT (327762.415 7397250.147)          796    053180   \n",
       "4617        48  POINT (327377.315 7397340.402)          692    050423   \n",
       "\n",
       "      lg_seg_id  lado_esquerdo  distancia_original  \n",
       "0       45138.0           True            1.685264  \n",
       "117     45138.0           True            0.798345  \n",
       "614     45138.0           True            7.530673  \n",
       "1       45168.0           True            1.327614  \n",
       "2       45534.0          False            0.300919  \n",
       "...         ...            ...                 ...  \n",
       "4587    47083.0          False            4.874720  \n",
       "4594    49718.0           True            3.448408  \n",
       "4609    50572.0          False            5.968986  \n",
       "4612    50906.0           True           16.311679  \n",
       "4617   236550.0          False            3.709103  \n",
       "\n",
       "[4624 rows x 18 columns]"
      ]
     },
     "execution_count": 16,
     "metadata": {},
     "output_type": "execute_result"
    }
   ],
   "source": [
    "gdf_placas.sjoin_nearest(gdf_meios_fios, distance_col='distancia_original')"
   ]
  },
  {
   "cell_type": "code",
   "execution_count": 17,
   "metadata": {},
   "outputs": [],
   "source": [
    "gdf_placas_reposicionadas = gdf_placas.sjoin_nearest(gdf_meios_fios, distance_col='distancia_original')"
   ]
  },
  {
   "cell_type": "code",
   "execution_count": 18,
   "metadata": {},
   "outputs": [],
   "source": [
    "gdf_placas_reposicionadas.geometry = [nearest_points(r.geometry, gdf_meios_fios.loc[r.index_right].geometry)[-1] for (i, r) in gdf_placas_reposicionadas.iterrows()]"
   ]
  },
  {
   "cell_type": "code",
   "execution_count": 19,
   "metadata": {},
   "outputs": [
    {
     "name": "stderr",
     "output_type": "stream",
     "text": [
      "/home/feromes/miniconda3/envs/geo/lib/python3.8/site-packages/geopandas/io/file.py:362: FutureWarning: pandas.Int64Index is deprecated and will be removed from pandas in a future version. Use pandas.Index with the appropriate dtype instead.\n",
      "  pd.Int64Index,\n"
     ]
    }
   ],
   "source": [
    "gdf_placas_reposicionadas.to_file('tmp/placas_reposicionadas.gpkg', driver='GPKG')"
   ]
  },
  {
   "cell_type": "code",
   "execution_count": null,
   "metadata": {},
   "outputs": [],
   "source": []
  },
  {
   "cell_type": "code",
   "execution_count": null,
   "metadata": {},
   "outputs": [],
   "source": []
  }
 ],
 "metadata": {
  "interpreter": {
   "hash": "9cedc55b3cbf3c6d99ff990673a8ddd4523edd6f7760ad30a6f7807a45845135"
  },
  "kernelspec": {
   "display_name": "Python 3.8.12 ('geo')",
   "language": "python",
   "name": "python3"
  },
  "language_info": {
   "codemirror_mode": {
    "name": "ipython",
    "version": 3
   },
   "file_extension": ".py",
   "mimetype": "text/x-python",
   "name": "python",
   "nbconvert_exporter": "python",
   "pygments_lexer": "ipython3",
   "version": "3.8.12"
  },
  "orig_nbformat": 4
 },
 "nbformat": 4,
 "nbformat_minor": 2
}
